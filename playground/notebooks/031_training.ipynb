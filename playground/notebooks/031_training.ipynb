{
 "cells": [
  {
   "cell_type": "code",
   "execution_count": null,
   "metadata": {},
   "outputs": [
    {
     "ename": "ModuleNotFoundError",
     "evalue": "No module named 'data.components'",
     "output_type": "error",
     "traceback": [
      "\u001b[0;31m---------------------------------------------------------------------------\u001b[0m",
      "\u001b[0;31mModuleNotFoundError\u001b[0m                       Traceback (most recent call last)",
      "Cell \u001b[0;32mIn[1], line 3\u001b[0m\n\u001b[1;32m      1\u001b[0m \u001b[38;5;28;01mimport\u001b[39;00m\u001b[38;5;250m \u001b[39m\u001b[38;5;21;01mdatasets\u001b[39;00m\n\u001b[1;32m      2\u001b[0m \u001b[38;5;28;01mfrom\u001b[39;00m\u001b[38;5;250m \u001b[39m\u001b[38;5;21;01msrc\u001b[39;00m\u001b[38;5;21;01m.\u001b[39;00m\u001b[38;5;21;01mmodels\u001b[39;00m\u001b[38;5;21;01m.\u001b[39;00m\u001b[38;5;21;01mcomponents\u001b[39;00m\u001b[38;5;21;01m.\u001b[39;00m\u001b[38;5;21;01mpartmae_v4\u001b[39;00m\u001b[38;5;250m \u001b[39m\u001b[38;5;28;01mimport\u001b[39;00m PARTMaskedAutoEncoderViT, PART_mae_vit_base_patch16_dec512d8b\n\u001b[0;32m----> 3\u001b[0m \u001b[38;5;28;01mfrom\u001b[39;00m\u001b[38;5;250m \u001b[39m\u001b[38;5;21;01mdata\u001b[39;00m\u001b[38;5;21;01m.\u001b[39;00m\u001b[38;5;21;01mcomponents\u001b[39;00m\u001b[38;5;21;01m.\u001b[39;00m\u001b[38;5;21;01mtransforms\u001b[39;00m\u001b[38;5;21;01m.\u001b[39;00m\u001b[38;5;21;01mmulti_crop_v2\u001b[39;00m\u001b[38;5;250m \u001b[39m\u001b[38;5;28;01mimport\u001b[39;00m ParametrizedMultiCropV2\n\u001b[1;32m      4\u001b[0m \u001b[38;5;28;01mfrom\u001b[39;00m\u001b[38;5;250m \u001b[39m\u001b[38;5;21;01mlightning\u001b[39;00m\u001b[38;5;250m \u001b[39m\u001b[38;5;28;01mimport\u001b[39;00m Fabric\n\u001b[1;32m      5\u001b[0m \u001b[38;5;28;01mfrom\u001b[39;00m\u001b[38;5;250m \u001b[39m\u001b[38;5;21;01mtqdm\u001b[39;00m\u001b[38;5;250m \u001b[39m\u001b[38;5;28;01mimport\u001b[39;00m tqdm\n",
      "\u001b[0;31mModuleNotFoundError\u001b[0m: No module named 'data.components'"
     ]
    }
   ],
   "source": [
    "import datasets\n",
    "from src.models.components.partmae_v4 import PARTMaskedAutoEncoderViT, PART_mae_vit_base_patch16_dec512d8b\n",
    "from src.data.components.transforms.multi_crop_v2 import ParametrizedMultiCropV2\n",
    "from lightning import Fabric\n",
    "from tqdm import tqdm\n",
    "from torch import nn, Tensor\n",
    "import torch\n",
    "from torch.utils.data import Dataset, DataLoader, default_collate\n",
    "from torchmetrics import MeanSquaredError, MeanMetric, MetricCollection\n",
    "from PIL import Image\n",
    "from lightning.fabric.loggers import TensorBoardLogger\n",
    "import matplotlib.pyplot as plt\n",
    "import math\n",
    "import timm\n",
    "import timm.scheduler\n",
    "import torch.optim\n",
    "import logging\n",
    "\n",
    "logging.basicConfig(level=logging.INFO)"
   ]
  },
  {
   "cell_type": "markdown",
   "metadata": {},
   "source": [
    "## Overfit Training"
   ]
  },
  {
   "cell_type": "code",
   "execution_count": null,
   "metadata": {},
   "outputs": [],
   "source": [
    "class HFDataset(Dataset):\n",
    "    def __init__(\n",
    "        self,\n",
    "        dataset: str,\n",
    "        name: str,\n",
    "        split=\"train\",\n",
    "        img_key: str = \"image\",\n",
    "        transform=None,\n",
    "    ):\n",
    "        self.ds = datasets.load_dataset(dataset, name, split=split)\n",
    "        self.transform = transform\n",
    "        self.img_key = img_key\n",
    "\n",
    "    def __len__(self):\n",
    "        return len(self.ds)\n",
    "\n",
    "    def __getitem__(self, idx):\n",
    "        if self.transform:\n",
    "            return self.transform(self.ds[idx][self.img_key])\n",
    "        return self.ds[idx]"
   ]
  },
  {
   "cell_type": "code",
   "execution_count": null,
   "metadata": {},
   "outputs": [],
   "source": [
    "B = 16\n",
    "gV = 1\n",
    "lV = 5\n",
    "V = gV + lV\n",
    "train_transform = ParametrizedMultiCropV2(n_global_crops=gV, n_local_crops=lV)\n",
    "dataset = HFDataset(\"frgfm/imagenette\", \"160px\", transform=train_transform)\n",
    "train_dataloader = DataLoader(dataset, batch_size=B, shuffle=False)"
   ]
  },
  {
   "cell_type": "code",
   "execution_count": 2,
   "metadata": {},
   "outputs": [
    {
     "ename": "NameError",
     "evalue": "name 'torch' is not defined",
     "output_type": "error",
     "traceback": [
      "\u001b[0;31m---------------------------------------------------------------------------\u001b[0m",
      "\u001b[0;31mNameError\u001b[0m                                 Traceback (most recent call last)",
      "Cell \u001b[0;32mIn[2], line 3\u001b[0m\n\u001b[1;32m      1\u001b[0m \u001b[38;5;66;03m# overfit to a few batches\u001b[39;00m\n\u001b[0;32m----> 3\u001b[0m \u001b[43mtorch\u001b[49m\u001b[38;5;241m.\u001b[39mset_float32_matmul_precision(\u001b[38;5;124m\"\u001b[39m\u001b[38;5;124mmedium\u001b[39m\u001b[38;5;124m\"\u001b[39m)\n\u001b[1;32m      4\u001b[0m logger \u001b[38;5;241m=\u001b[39m TensorBoardLogger(\u001b[38;5;124m\"\u001b[39m\u001b[38;5;124m../../logs/tb_logs/imagenette/\u001b[39m\u001b[38;5;124m\"\u001b[39m)\n\u001b[1;32m      5\u001b[0m fabric \u001b[38;5;241m=\u001b[39m Fabric(precision\u001b[38;5;241m=\u001b[39m\u001b[38;5;124m\"\u001b[39m\u001b[38;5;124mbf16-mixed\u001b[39m\u001b[38;5;124m\"\u001b[39m, loggers\u001b[38;5;241m=\u001b[39mlogger)\n",
      "\u001b[0;31mNameError\u001b[0m: name 'torch' is not defined"
     ]
    }
   ],
   "source": [
    "# overfit to a few batches\n",
    "\n",
    "torch.set_float32_matmul_precision(\"medium\")\n",
    "logger = TensorBoardLogger(\"../../logs/tb_logs/imagenette/\")\n",
    "fabric = Fabric(precision=\"bf16-mixed\", loggers=logger)\n",
    "\n",
    "EPOCHS = 1\n",
    "COMPILE = False\n",
    "\n",
    "if EPOCHS < 3000:\n",
    "    COMPILE = False\n",
    "\n",
    "logging.info(f\"Initializing model with {EPOCHS} epochs, compile={COMPILE}\")\n",
    "with fabric.init_module():\n",
    "    model = PART_mae_vit_base_patch16_dec512d8b(\n",
    "        sampler=\"stratified_jittered\",\n",
    "        alpha_ts=0.8,\n",
    "        mask_ratio=0.75,\n",
    "        pos_mask_ratio=0.75,\n",
    "        alpha_t=0.75,\n",
    "        max_scale_ratio=6.0,\n",
    "        canonical_img_size=512,\n",
    "    )\n",
    "    optimizer = torch.optim.AdamW(model.parameters(), lr=8e-6)\n",
    "    # cosine scheduler\n",
    "    sched = timm.scheduler.CosineLRScheduler(\n",
    "        optimizer, t_initial=EPOCHS, lr_min=9e-7, warmup_t=500, warmup_lr_init=9e-7\n",
    "    )\n",
    "\n",
    "if COMPILE:\n",
    "    logging.info(f\"Compiling model\")\n",
    "    model = torch.compile(model, fullgraph=True, dynamic=False)\n",
    "    logging.info(f\"Model compiled\")\n",
    "\n",
    "logging.info(f\"Fabric setup\")\n",
    "model, optimizer = fabric.setup(model, optimizer)\n",
    "dataloader = fabric.setup_dataloaders(train_dataloader)\n",
    "logging.info(f\"Fabric setup done\")\n",
    "\n",
    "global_step = 0\n",
    "fabric.call(\"on_train_start\", fabric)\n",
    "logging.info(f\"Started training\")\n",
    "for epoch in range(EPOCHS):\n",
    "    model.train()\n",
    "    optimizer.zero_grad()\n",
    "    fabric.call(\"on_train_epoch_start\", fabric, global_step, optimizer)\n",
    "    pbar = tqdm(dataloader, total=len(dataloader), description=f\"Epoch: {epoch} Loss: null dt std: null\")\n",
    "    for batch in pbar:\n",
    "        out = model(*batch)\n",
    "        fabric.backward(out[\"loss\"])\n",
    "        optimizer.step()\n",
    "        optimizer.zero_grad()\n",
    "        fabric.call(\"on_train_batch_end\", out)\n",
    "        global_step += 1\n",
    "\n",
    "    sched.step(epoch)\n",
    "    fabric.call(\"on_train_epoch_end\", fabric, global_step)\n",
    "    metric_dict = metric_logger.get_current_metrics()\n",
    "    pbar.set_description(\n",
    "        f\"Epoch: {epoch} Loss: {metric_dict['loss']:.4f} \" f\"dt std: {metric_dict['dt_std'] * 512:.4f}\"\n",
    "    )\n",
    "\n",
    "fabric.save(f\"imagenette_ep{EPOCHS}_B{B}_gV{gV}_lV{lV}.ckpt\", state=model.state_dict())"
   ]
  },
  {
   "cell_type": "code",
   "execution_count": null,
   "metadata": {},
   "outputs": [
    {
     "data": {
      "text/plain": [
       "<All keys matched successfully>"
      ]
     },
     "execution_count": 39,
     "metadata": {},
     "output_type": "execute_result"
    }
   ],
   "source": [
    "EPOCHS=10000\n",
    "state_dict = fabric.load(f\"model_ep{EPOCHS}_B{B}_gV{gV}_lV{lV}.ckpt\")\n",
    "model.load_state_dict(state_dict)"
   ]
  },
  {
   "cell_type": "markdown",
   "metadata": {},
   "source": [
    "## Reconstruction"
   ]
  },
  {
   "cell_type": "markdown",
   "metadata": {},
   "source": [
    "### Utils"
   ]
  },
  {
   "cell_type": "code",
   "execution_count": null,
   "metadata": {},
   "outputs": [],
   "source": [
    "def clean_model_io(batch: tuple, out: dict, device=\"cuda\"):\n",
    "    \"\"\"\n",
    "    Cleans and reshapes model outputs for visualization.\n",
    "\n",
    "    - Detach and move tensors to device.\n",
    "    - Adds useful tensors to dict (crop_params, canonical_params)\n",
    "    \"\"\"\n",
    "    io = dict()\n",
    "\n",
    "    io[\"g_x\"] = batch[0]\n",
    "    io[\"g_params\"] = batch[1]\n",
    "    io[\"l_x\"] = batch[2]\n",
    "    io[\"l_params\"] = batch[3]\n",
    "\n",
    "    for pfx in [\"g\", \"l\"]:\n",
    "        io[f\"{pfx}_crop_params\"] = io[f\"{pfx}_params\"][:, :, 4:8]  \n",
    "    \n",
    "    io[f\"canonical_params\"] = io[f\"g_params\"][:, 0, :4]\n",
    "\n",
    "    io.update({name: out[name] for name in out.keys()})\n",
    "\n",
    "    ## MOVE TO DEVICE and DETACH\n",
    "    clean = lambda x: x.to(device).detach() if isinstance(x, Tensor) else x\n",
    "    io = {name: clean(tensor) for name, tensor in io.items()}\n",
    "    return io\n"
   ]
  },
  {
   "cell_type": "code",
   "execution_count": null,
   "metadata": {},
   "outputs": [],
   "source": [
    "from src.utils.visualization.reconstruction_v4_gt import (\n",
    "    reconstruction_gt,\n",
    ")\n",
    "\n",
    "def make_plots(\n",
    "    reconstructed_img: Tensor, io: dict, batch_idx: int, original_img: Image.Image\n",
    "):\n",
    "    gt_reconstruction = reconstruction_gt(\n",
    "        g_crops=io[\"g_x\"][batch_idx],\n",
    "        l_crops=io[\"l_x\"][batch_idx],\n",
    "        g_patch_positions_nopos=io[\"g_patch_positions_nopos\"][batch_idx],\n",
    "        l_patch_positions_nopos=io[\"l_patch_positions_nopos\"][batch_idx],\n",
    "        patch_size=16,\n",
    "        canonical_img_size=512,\n",
    "        g_shapes=io[\"g_shapes\"],\n",
    "        l_shapes=io[\"l_shapes\"],\n",
    "        g_crop_params=io[\"g_crop_params\"][batch_idx],\n",
    "        l_crop_params=io[\"l_crop_params\"][batch_idx],\n",
    "    )\n",
    "    fig, axes = plt.subplots(1, 3)\n",
    "    canonical_img = train_transform.recreate_canonical(\n",
    "        original_img, io[\"canonical_params\"][batch_idx].tolist()\n",
    "    )\n",
    "    axes[0].imshow(canonical_img)\n",
    "    axes[0].set_title(\"Original\")\n",
    "    axes[1].imshow(gt_reconstruction.permute(1, 2, 0).cpu())\n",
    "    axes[1].set_title(\"GT reconstruction\")\n",
    "    axes[2].imshow(reconstructed_img.permute(1, 2, 0).cpu())\n",
    "    axes[2].set_title(\"Reconstruction\")\n",
    "    return fig, axes"
   ]
  },
  {
   "cell_type": "markdown",
   "metadata": {},
   "source": [
    "##"
   ]
  },
  {
   "cell_type": "markdown",
   "metadata": {},
   "source": [
    "## LR Finder"
   ]
  },
  {
   "cell_type": "code",
   "execution_count": 3,
   "metadata": {},
   "outputs": [],
   "source": [
    "torch.set_float32_matmul_precision(\"medium\")\n",
    "B = 128\n",
    "gV = 2\n",
    "lV = 10\n",
    "V = gV + lV\n",
    "train_transform = ParametrizedMultiCropV2(n_global_crops=gV, n_local_crops=lV)\n",
    "dataset = HFDataset(\"frgfm/imagenette\", \"160px\", transform=train_transform)\n",
    "train_dataloader = DataLoader(dataset, batch_size=B, shuffle=False)\n",
    "model = PART_mae_vit_base_patch16_dec512d8b(\n",
    "    sampler=\"stratified_jittered\",\n",
    "    alpha_ts=0.8,\n",
    "    mask_ratio=0.75,\n",
    "    pos_mask_ratio=0.75,\n",
    "    alpha_t=0.75,\n",
    "    max_scale_ratio=6.0,\n",
    "    canonical_img_size=512,\n",
    ")\n",
    "optimizer = torch.optim.AdamW(model.parameters(), lr=2e-3)"
   ]
  },
  {
   "cell_type": "code",
   "execution_count": 4,
   "metadata": {},
   "outputs": [
    {
     "name": "stdout",
     "output_type": "stream",
     "text": [
      "Full views per batch: 3.836734693877551\n",
      "Effective batch size: 3928.816326530612\n"
     ]
    }
   ],
   "source": [
    "from torch_lr_finder import LRFinder, TrainDataLoaderIter\n",
    "from torch.utils.data import DataLoader, Dataset\n",
    "\n",
    "\n",
    "class ModelWrapper(nn.Module):\n",
    "    def __init__(self, model):\n",
    "        super().__init__()\n",
    "        self.model = model\n",
    "\n",
    "    def forward(self, args):\n",
    "        return self.model(*args)\n",
    "\n",
    "\n",
    "class CustomTrainIter(TrainDataLoaderIter):\n",
    "    def inputs_labels_from_batch(self, batch):\n",
    "        return batch, None\n",
    "\n",
    "\n",
    "def criterion(out, _):\n",
    "    return out[\"loss\"]\n",
    "\n",
    "\n",
    "model = ModelWrapper(model)\n",
    "custom_train_iter = CustomTrainIter(train_dataloader)\n",
    "amp_config = {\n",
    "    'device_type': 'cuda',\n",
    "    'dtype': torch.bfloat16,\n",
    "}\n",
    "grad_scaler = torch.amp.GradScaler()\n",
    "accumulation_steps = 8\n",
    "full_views_per_batch = gV + lV * (96*96)/(224*224)\n",
    "effective_batch_size = B * full_views_per_batch * accumulation_steps\n",
    "print(f\"Full views per batch: {full_views_per_batch}\")\n",
    "print(f\"Effective batch size: {effective_batch_size}\")\n"
   ]
  },
  {
   "cell_type": "code",
   "execution_count": null,
   "metadata": {},
   "outputs": [
    {
     "data": {
      "application/vnd.jupyter.widget-view+json": {
       "model_id": "4d3c1e2553c74478a3f0d2a161e978fc",
       "version_major": 2,
       "version_minor": 0
      },
      "text/plain": [
       "  0%|          | 0/20 [00:00<?, ?it/s]"
      ]
     },
     "metadata": {},
     "output_type": "display_data"
    },
    {
     "name": "stdout",
     "output_type": "stream",
     "text": [
      "Learning rate search finished. See the graph with {finder_name}.plot()\n"
     ]
    }
   ],
   "source": [
    "lr_finder = LRFinder(model, optimizer, criterion, device=\"cuda\", amp_backend=\"torch\", amp_config=amp_config, grad_scaler=grad_scaler)\n",
    "lr_finder.range_test(\n",
    "    custom_train_iter,\n",
    "    start_lr=5e-4,\n",
    "    end_lr=1e-2,\n",
    "    num_iter=30,\n",
    "    step_mode=\"exp\",\n",
    "    accumulation_steps=accumulation_steps,\n",
    ")"
   ]
  },
  {
   "cell_type": "code",
   "execution_count": 10,
   "metadata": {},
   "outputs": [
    {
     "name": "stdout",
     "output_type": "stream",
     "text": [
      "LR suggestion: steepest gradient\n",
      "Suggested LR: 9.39E-04\n"
     ]
    },
    {
     "data": {
      "image/png": "[encoded data removed]",
      "text/plain": [
       "<Figure size 640x480 with 1 Axes>"
      ]
     },
     "metadata": {},
     "output_type": "display_data"
    }
   ],
   "source": [
    "ax = lr_finder.plot(suggest_lr=True, skip_start=2, skip_end=0) # 3e-6\n",
    "# add vline at 10"
   ]
  },
  {
   "cell_type": "code",
   "execution_count": null,
   "metadata": {},
   "outputs": [],
   "source": []
  }
 ],
 "metadata": {
  "kernelspec": {
   "display_name": ".venv",
   "language": "python",
   "name": "python3"
  },
  "language_info": {
   "codemirror_mode": {
    "name": "ipython",
    "version": 3
   },
   "file_extension": ".py",
   "mimetype": "text/x-python",
   "name": "python",
   "nbconvert_exporter": "python",
   "pygments_lexer": "ipython3",
   "version": "3.10.0"
  }
 },
 "nbformat": 4,
 "nbformat_minor": 2
}

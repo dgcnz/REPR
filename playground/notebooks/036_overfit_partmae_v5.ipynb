{
 "cells": [
  {
   "cell_type": "code",
   "execution_count": 15,
   "metadata": {},
   "outputs": [],
   "source": [
    "import datasets\n",
    "from src.models.components.partmae_v5 import PARTMaskedAutoEncoderViT, PART_mae_vit_base_patch16_dec512d8b\n",
    "from src.data.components.transforms.multi_crop_v2 import ParametrizedMultiCropV2\n",
    "from src.models.components.metrics.partmae_v3 import V3Metrics\n",
    "from lightning import Fabric\n",
    "from tqdm import tqdm\n",
    "from torch import nn, Tensor\n",
    "import torch\n",
    "from torch.utils.data import Dataset, DataLoader, default_collate\n",
    "from PIL import Image\n",
    "from lightning.fabric.loggers import TensorBoardLogger\n",
    "import matplotlib.pyplot as plt\n",
    "import math\n",
    "import timm\n",
    "import timm.scheduler\n",
    "import torch.optim\n",
    "import torch.utils._pytree as pytree\n",
    "from src.utils.visualization.reconstruction_v5_anchor_reparam import reconstruction_lstsq_with_anchor_reparam\n",
    "from src.utils.visualization.reconstruction_v5_gt import reconstruction_gt"
   ]
  },
  {
   "cell_type": "markdown",
   "metadata": {},
   "source": [
    "## Overfit Training"
   ]
  },
  {
   "cell_type": "markdown",
   "metadata": {},
   "source": [
    "### Utils"
   ]
  },
  {
   "cell_type": "code",
   "execution_count": 16,
   "metadata": {},
   "outputs": [],
   "source": [
    "class OverfitDataset(Dataset):\n",
    "    def __init__(self, xs, transform=None):\n",
    "        self.xs = xs\n",
    "        self.transform = transform\n",
    "\n",
    "    def __len__(self):\n",
    "        return len(self.xs)\n",
    "\n",
    "    def __getitem__(self, idx):\n",
    "        if self.transform:\n",
    "            return self.transform(self.xs[idx])\n",
    "        return self.xs[idx]"
   ]
  },
  {
   "cell_type": "code",
   "execution_count": 17,
   "metadata": {},
   "outputs": [],
   "source": [
    "def clean_model_io(batch: tuple, out: dict, device=\"cuda\"):\n",
    "    \"\"\"\n",
    "    Clean and organize model inputs and outputs for visualization and analysis.\n",
    "    \n",
    "    Args:\n",
    "        batch: A tuple containing model inputs (global images, global params, local images, local params)\n",
    "        out: Model output dictionary\n",
    "        device: Device to move tensors to (default: \"cuda\")\n",
    "        \n",
    "    Returns:\n",
    "        io: Dictionary containing organized model inputs and outputs\n",
    "    \"\"\"\n",
    "    # Initialize output dictionary\n",
    "    io = dict()\n",
    "    \n",
    "    # Extract shapes from model output\n",
    "    g_crop_size, gN, gV = out[\"shapes\"][0]  # global crop size, tokens per crop, number of crops\n",
    "    l_crop_size, lN, lV = out[\"shapes\"][1]  # local crop size, tokens per crop, number of crops\n",
    "    \n",
    "    # Extract and organize inputs\n",
    "    io[\"x\"] = [[*gxs, *lxs] for gxs, lxs in zip(batch[0], batch[2])]\n",
    "    io[\"canonical_params\"] = batch[1][:, 0, :4]\n",
    "    io[\"params\"] = [[*gp, *lp] for gp, lp in zip(batch[1], batch[3])]\n",
    "    io[\"crop_params\"] = [[param[4:8] for param in batch_params] for batch_params in io[\"params\"]]\n",
    "    io[\"crop_sizes\"] = [*[g_crop_size for _ in range(gV)], *[l_crop_size for _ in range(lV)]]\n",
    "    io[\"num_tokens\"] = [*[gN for _ in range(gV)], *[lN for _ in range(lV)]]\n",
    "    \n",
    "    # Include all output values\n",
    "    io.update({name: out[name] for name in out.keys()})\n",
    "    \n",
    "    # Move all tensors to the specified device\n",
    "    io = pytree.tree_map_only(\n",
    "        Tensor,\n",
    "        lambda t: t.detach().to(device),\n",
    "        io\n",
    "    )\n",
    "    \n",
    "    return io\n"
   ]
  },
  {
   "cell_type": "code",
   "execution_count": 18,
   "metadata": {},
   "outputs": [],
   "source": [
    "\n",
    "def make_plots(\n",
    "    model,\n",
    "    io,\n",
    "    train_transform,\n",
    "    original_img,\n",
    "):\n",
    "    gt_reconstruction = reconstruction_gt(\n",
    "        x=io[\"x\"][0],\n",
    "        patch_positions_nopos=io[\"patch_positions_nopos\"][0],\n",
    "        num_tokens=io[\"num_tokens\"],\n",
    "        crop_params=io[\"crop_params\"][0],\n",
    "        patch_size=model.patch_size,\n",
    "        canonical_img_size=model.canonical_img_size,\n",
    "    )\n",
    "    pred_reconstruction, *_ = reconstruction_lstsq_with_anchor_reparam(\n",
    "        x=io[\"x\"][0],\n",
    "        patch_positions_nopos=io[\"patch_positions_nopos\"][0],\n",
    "        num_tokens=io[\"num_tokens\"],\n",
    "        crop_params=io[\"crop_params\"][0],\n",
    "        patch_size=model.patch_size,\n",
    "        canonical_img_size=model.canonical_img_size,\n",
    "        max_scale_ratio=model.max_scale_ratio,\n",
    "        pred_dT=io[\"pred_dT\"][0],\n",
    "    )\n",
    "    fig, axes = plt.subplots(1, 3)\n",
    "    canonical_img = train_transform.recreate_canonical(\n",
    "        original_img, io[\"canonical_params\"][0]\n",
    "    )\n",
    "    axes[0].imshow(canonical_img)\n",
    "    axes[0].set_title(\"Original\")\n",
    "    axes[1].imshow(gt_reconstruction.permute(1, 2, 0).cpu())\n",
    "    axes[1].set_title(\"GT reconstruction\")\n",
    "    axes[2].imshow(pred_reconstruction.permute(1, 2, 0).cpu())\n",
    "    axes[2].set_title(\"Reconstruction\")\n",
    "    return fig, axes"
   ]
  },
  {
   "cell_type": "markdown",
   "metadata": {},
   "source": [
    "### Training"
   ]
  },
  {
   "cell_type": "code",
   "execution_count": 19,
   "metadata": {},
   "outputs": [],
   "source": [
    "ds = datasets.load_dataset(\"frgfm/imagenette\", \"160px\", split=\"train\")"
   ]
  },
  {
   "cell_type": "code",
   "execution_count": 20,
   "metadata": {},
   "outputs": [],
   "source": [
    "B = 32\n",
    "imgs = ds[\"image\"][:B]\n",
    "gV = 1\n",
    "lV = 5\n",
    "train_transform = ParametrizedMultiCropV2(n_global_crops=gV, n_local_crops=lV)\n",
    "dataset = OverfitDataset(imgs, train_transform)\n",
    "train_dataloader = DataLoader(dataset, batch_size=len(imgs), shuffle=False)"
   ]
  },
  {
   "cell_type": "code",
   "execution_count": 21,
   "metadata": {},
   "outputs": [
    {
     "name": "stderr",
     "output_type": "stream",
     "text": [
      "Using bfloat16 Automatic Mixed Precision (AMP)\n",
      "  0%|          | 0/3000 [00:00<?, ?it/s]Clipping input data to the valid range for imshow with RGB data ([0..1] for floats or [0..255] for integers). Got range [-1.8244047..1.3889799].\n",
      "Clipping input data to the valid range for imshow with RGB data ([0..1] for floats or [0..255] for integers). Got range [-1.7988698..1.4440448].\n",
      "Loss: 0.4082 Pred dt std: 52.1729:   8%|▊         | 250/3000 [01:58<21:44,  2.11it/s]Clipping input data to the valid range for imshow with RGB data ([0..1] for floats or [0..255] for integers). Got range [-1.7859048..2.3717844].\n",
      "Clipping input data to the valid range for imshow with RGB data ([0..1] for floats or [0..255] for integers). Got range [-1.5223472..2.3377242].\n",
      "Loss: 0.3890 Pred dt std: 60.2555:  17%|█▋        | 500/3000 [03:57<19:48,  2.10it/s]Clipping input data to the valid range for imshow with RGB data ([0..1] for floats or [0..255] for integers). Got range [-1.7869284..2.1771355].\n",
      "Clipping input data to the valid range for imshow with RGB data ([0..1] for floats or [0..255] for integers). Got range [-1.6895763..2.1745422].\n",
      "Loss: 0.3741 Pred dt std: 67.5854:  25%|██▌       | 750/3000 [05:57<17:51,  2.10it/s]Clipping input data to the valid range for imshow with RGB data ([0..1] for floats or [0..255] for integers). Got range [-1.7511029..1.9088868].\n",
      "Clipping input data to the valid range for imshow with RGB data ([0..1] for floats or [0..255] for integers). Got range [-1.6531196..1.9714215].\n",
      "Loss: 0.3613 Pred dt std: 73.6113:  33%|███▎      | 1000/3000 [07:56<15:57,  2.09it/s]Clipping input data to the valid range for imshow with RGB data ([0..1] for floats or [0..255] for integers). Got range [-1.79744..1.1791558].\n",
      "Clipping input data to the valid range for imshow with RGB data ([0..1] for floats or [0..255] for integers). Got range [-1.7106642..1.198071].\n",
      "Loss: 0.3501 Pred dt std: 78.5890:  42%|████▏     | 1250/3000 [09:55<13:54,  2.10it/s]Clipping input data to the valid range for imshow with RGB data ([0..1] for floats or [0..255] for integers). Got range [-1.7887281..0.5651536].\n",
      "Clipping input data to the valid range for imshow with RGB data ([0..1] for floats or [0..255] for integers). Got range [-1.7868254..0.55647403].\n",
      "Loss: 0.3404 Pred dt std: 82.6811:  50%|█████     | 1500/3000 [11:55<11:54,  2.10it/s]Clipping input data to the valid range for imshow with RGB data ([0..1] for floats or [0..255] for integers). Got range [-1.8267832..1.4301234].\n",
      "Clipping input data to the valid range for imshow with RGB data ([0..1] for floats or [0..255] for integers). Got range [-1.717388..1.4287815].\n",
      "Loss: 0.3321 Pred dt std: 86.0574:  58%|█████▊    | 1750/3000 [13:54<09:59,  2.09it/s]Clipping input data to the valid range for imshow with RGB data ([0..1] for floats or [0..255] for integers). Got range [-1.7617906..2.353133].\n",
      "Clipping input data to the valid range for imshow with RGB data ([0..1] for floats or [0..255] for integers). Got range [-1.8085167..2.3461323].\n",
      "Loss: 0.3249 Pred dt std: 88.8850:  67%|██████▋   | 2000/3000 [15:53<07:57,  2.09it/s]Clipping input data to the valid range for imshow with RGB data ([0..1] for floats or [0..255] for integers). Got range [-1.802084..2.2146587].\n",
      "Clipping input data to the valid range for imshow with RGB data ([0..1] for floats or [0..255] for integers). Got range [-1.7936367..2.2146587].\n",
      "Loss: 0.3187 Pred dt std: 91.2498:  75%|███████▌  | 2250/3000 [17:52<05:58,  2.09it/s]Clipping input data to the valid range for imshow with RGB data ([0..1] for floats or [0..255] for integers). Got range [-1.78212..2.4243386].\n",
      "Clipping input data to the valid range for imshow with RGB data ([0..1] for floats or [0..255] for integers). Got range [-1.6974164..2.4046352].\n",
      "Loss: 0.3132 Pred dt std: 93.2608:  83%|████████▎ | 2500/3000 [19:52<03:58,  2.10it/s]Clipping input data to the valid range for imshow with RGB data ([0..1] for floats or [0..255] for integers). Got range [-1.843908..1.3427234].\n",
      "Clipping input data to the valid range for imshow with RGB data ([0..1] for floats or [0..255] for integers). Got range [-1.7781986..1.3554242].\n",
      "Loss: 0.3085 Pred dt std: 94.9602:  92%|█████████▏| 2750/3000 [21:51<01:59,  2.09it/s]Clipping input data to the valid range for imshow with RGB data ([0..1] for floats or [0..255] for integers). Got range [-1.7943155..1.370035].\n",
      "Clipping input data to the valid range for imshow with RGB data ([0..1] for floats or [0..255] for integers). Got range [-1.7816466..1.3730514].\n",
      "Loss: 0.3044 Pred dt std: 96.4255: 100%|██████████| 3000/3000 [23:45<00:00,  2.10it/s]\n"
     ]
    }
   ],
   "source": [
    "# overfit to a few batches\n",
    "torch.set_float32_matmul_precision(\"medium\")\n",
    "logger = TensorBoardLogger(\"../../logs/tb_logs/v5/\")\n",
    "fabric = Fabric(precision=\"bf16-mixed\", loggers=logger)\n",
    "\n",
    "EPOCHS = 3000\n",
    "COMPILE = False\n",
    "\n",
    "if EPOCHS < 3000:\n",
    "    COMPILE = False\n",
    "\n",
    "with fabric.init_module():\n",
    "    model = PART_mae_vit_base_patch16_dec512d8b(\n",
    "        sampler=\"stratified_jittered\",\n",
    "        alpha_ts=0.8,\n",
    "        mask_ratio=0.75,\n",
    "        pos_mask_ratio=0.75,\n",
    "        alpha_t=0.75,\n",
    "        max_scale_ratio=6.0,\n",
    "        canonical_img_size=512,\n",
    "        alpha_s=1.0,\n",
    "    )\n",
    "    optimizer = torch.optim.AdamW(model.parameters(), lr=1e-5)\n",
    "    # cosine scheduler\n",
    "    sched = timm.scheduler.CosineLRScheduler(\n",
    "        optimizer, t_initial=EPOCHS, lr_min=1e-6, warmup_t=500, warmup_lr_init=1e-6\n",
    "    )\n",
    "\n",
    "\n",
    "if COMPILE:\n",
    "    model = torch.compile(model, fullgraph=True, dynamic=False)\n",
    "model, optimizer = fabric.setup(model, optimizer)\n",
    "dataloader = fabric.setup_dataloaders(train_dataloader)\n",
    "metrics = V3Metrics().to(fabric.device)\n",
    "\n",
    "pbar = tqdm(range(EPOCHS))\n",
    "global_step = 0\n",
    "\n",
    "LOG_RECONSTRUCTION_INTERVAL = 250\n",
    "for epoch in pbar:\n",
    "    model.train()\n",
    "    optimizer.zero_grad()\n",
    "    for batch in dataloader:\n",
    "        out = model(*batch)\n",
    "        fabric.backward(out[\"loss\"])\n",
    "        optimizer.step()\n",
    "        optimizer.zero_grad()\n",
    "\n",
    "        metrics.update(out)\n",
    "        global_step += 1\n",
    "\n",
    "    # log\n",
    "\n",
    "    sched.step(epoch)\n",
    "\n",
    "    # metric_logger.on_train_epoch_end(fabric, global_step)\n",
    "    metric_dict = metrics.compute()\n",
    "    metric_dict[\"lr\"] = optimizer.param_groups[0][\"lr\"]\n",
    "    metric_dict[\"epoch\"] = epoch\n",
    "\n",
    "    # log reconstruction\n",
    "    if epoch % LOG_RECONSTRUCTION_INTERVAL == 0:\n",
    "        io = clean_model_io(batch, out)\n",
    "        fig, axes = make_plots(\n",
    "            model,\n",
    "            io,\n",
    "            train_transform,\n",
    "            imgs[0],\n",
    "        )\n",
    "        fabric._loggers[0].experiment.add_figure(\n",
    "            f\"train/reconstruction\",\n",
    "            fig,\n",
    "            global_step=global_step,\n",
    "        )\n",
    "        plt.close(fig)\n",
    "\n",
    "\n",
    "    metric_dict = {f\"train/{k}\": v for k, v in metric_dict.items()}\n",
    "    # log\n",
    "    fabric.log_dict(metric_dict, step=global_step)\n",
    "    pbar.set_description(\n",
    "        f\"Loss: {metric_dict['train/loss']:.4f} \"\n",
    "        f\"Pred dt std: {metric_dict['train/pred_dt_std'] * 512:.4f}\"\n",
    "    )\n",
    "\n",
    "# fabric.save(f\"model_ep{EPOCHS}_gV{gV}_lV{lV}.ckpt\", state=model.state_dict())"
   ]
  },
  {
   "cell_type": "code",
   "execution_count": 22,
   "metadata": {},
   "outputs": [],
   "source": [
    "# EPOCHS=5000\n",
    "# state_dict = fabric.load(f\"model_ep{EPOCHS}_gV{gV}_lV{lV}.ckpt\")\n",
    "# model.load_state_dict(state_dict)"
   ]
  },
  {
   "cell_type": "markdown",
   "metadata": {},
   "source": [
    "## Reconstruction"
   ]
  },
  {
   "cell_type": "markdown",
   "metadata": {},
   "source": [
    "### Utils"
   ]
  },
  {
   "cell_type": "markdown",
   "metadata": {},
   "source": [
    "### Least squares with anchor (reparametrized)"
   ]
  },
  {
   "cell_type": "code",
   "execution_count": 23,
   "metadata": {},
   "outputs": [],
   "source": [
    "def clean_model_io(batch: tuple, out: dict, device=\"cuda\"):\n",
    "    \"\"\"\n",
    "    Clean and organize model inputs and outputs for visualization and analysis.\n",
    "    \n",
    "    Args:\n",
    "        batch: A tuple containing model inputs (global images, global params, local images, local params)\n",
    "        out: Model output dictionary\n",
    "        device: Device to move tensors to (default: \"cuda\")\n",
    "        \n",
    "    Returns:\n",
    "        io: Dictionary containing organized model inputs and outputs\n",
    "    \"\"\"\n",
    "    # Initialize output dictionary\n",
    "    io = dict()\n",
    "    \n",
    "    # Extract shapes from model output\n",
    "    g_crop_size, gN, gV = out[\"shapes\"][0]  # global crop size, tokens per crop, number of crops\n",
    "    l_crop_size, lN, lV = out[\"shapes\"][1]  # local crop size, tokens per crop, number of crops\n",
    "    \n",
    "    # Extract and organize inputs\n",
    "    io[\"x\"] = [[*gxs, *lxs] for gxs, lxs in zip(batch[0], batch[2])]\n",
    "    io[\"canonical_params\"] = batch[1][:, 0, :4]\n",
    "    io[\"params\"] = [[*gp, *lp] for gp, lp in zip(batch[1], batch[3])]\n",
    "    io[\"crop_params\"] = [[param[4:8] for param in batch_params] for batch_params in io[\"params\"]]\n",
    "    io[\"crop_sizes\"] = [*[g_crop_size for _ in range(gV)], *[l_crop_size for _ in range(lV)]]\n",
    "    io[\"num_tokens\"] = [*[gN for _ in range(gV)], *[lN for _ in range(lV)]]\n",
    "    \n",
    "    # Include all output values\n",
    "    io.update({name: out[name] for name in out.keys()})\n",
    "    \n",
    "    # Move all tensors to the specified device\n",
    "    io = pytree.tree_map_only(\n",
    "        Tensor,\n",
    "        lambda t: t.detach().to(device),\n",
    "        io\n",
    "    )\n",
    "    \n",
    "    return io\n"
   ]
  },
  {
   "cell_type": "code",
   "execution_count": 24,
   "metadata": {},
   "outputs": [],
   "source": [
    "io = clean_model_io(batch, out, 'cpu')"
   ]
  },
  {
   "cell_type": "code",
   "execution_count": 25,
   "metadata": {},
   "outputs": [],
   "source": [
    "batch = next(iter(dataloader))\n",
    "with torch.no_grad():\n",
    "    g_x, g_params, l_x, l_params = batch\n",
    "    out = model(g_x, g_params, l_x, l_params)\n",
    "\n",
    "io = clean_model_io(batch, out, 'cuda')\n"
   ]
  },
  {
   "cell_type": "code",
   "execution_count": 26,
   "metadata": {},
   "outputs": [
    {
     "data": {
      "text/plain": [
       "[37, 7, 7, 7, 7, 7]"
      ]
     },
     "execution_count": 26,
     "metadata": {},
     "output_type": "execute_result"
    }
   ],
   "source": [
    "io[\"num_tokens\"]"
   ]
  },
  {
   "cell_type": "code",
   "execution_count": 27,
   "metadata": {},
   "outputs": [
    {
     "name": "stderr",
     "output_type": "stream",
     "text": [
      "Clipping input data to the valid range for imshow with RGB data ([0..1] for floats or [0..255] for integers). Got range [-1.8360041..2.2296228].\n"
     ]
    },
    {
     "name": "stdout",
     "output_type": "stream",
     "text": [
      "torch.Size([3, 512, 512])\n"
     ]
    },
    {
     "data": {
      "text/plain": [
       "<matplotlib.image.AxesImage at 0x799da3ffcbe0>"
      ]
     },
     "execution_count": 27,
     "metadata": {},
     "output_type": "execute_result"
    },
    {
     "data": {
      "image/png": "[encoded data removed]",
      "text/plain": [
       "<Figure size 640x480 with 1 Axes>"
      ]
     },
     "metadata": {},
     "output_type": "display_data"
    }
   ],
   "source": [
    "from src.utils.visualization.lstsq_solver import lstsq_dT_solver as lstsq_solver\n",
    "from src.utils.visualization.reconstruction_v5_gt import reconstruction_gt\n",
    "\n",
    "reconstructed_img_gt = reconstruction_gt(\n",
    "    x = io[\"x\"][0],\n",
    "    patch_positions_nopos=io[\"patch_positions_nopos\"][0],\n",
    "    num_tokens=io[\"num_tokens\"],\n",
    "    crop_params=io[\"crop_params\"][0],\n",
    "    patch_size=model.patch_size,\n",
    "    canonical_img_size=model.canonical_img_size,\n",
    ")\n",
    "\n",
    "print(reconstructed_img_gt.shape)\n",
    "plt.imshow(reconstructed_img_gt.permute(1, 2, 0).cpu())"
   ]
  },
  {
   "cell_type": "code",
   "execution_count": 28,
   "metadata": {},
   "outputs": [
    {
     "name": "stderr",
     "output_type": "stream",
     "text": [
      "Clipping input data to the valid range for imshow with RGB data ([0..1] for floats or [0..255] for integers). Got range [-1.8360041..2.2296228].\n"
     ]
    },
    {
     "data": {
      "text/plain": [
       "<matplotlib.image.AxesImage at 0x799d97f0e1a0>"
      ]
     },
     "execution_count": 28,
     "metadata": {},
     "output_type": "execute_result"
    },
    {
     "data": {
      "image/png": "[encoded data removed]",
      "text/plain": [
       "<Figure size 640x480 with 1 Axes>"
      ]
     },
     "metadata": {},
     "output_type": "display_data"
    }
   ],
   "source": [
    "from src.utils.visualization.lstsq_solver import lstsq_dT_solver as lstsq_solver\n",
    "from src.utils.visualization.reconstruction_v5_anchor_reparam import reconstruction_lstsq_with_anchor_reparam\n",
    "\n",
    "reconstructed_img_gt, *_ = reconstruction_lstsq_with_anchor_reparam(\n",
    "    x = io[\"x\"][0],\n",
    "    patch_positions_nopos=io[\"patch_positions_nopos\"][0],\n",
    "    num_tokens=io[\"num_tokens\"],\n",
    "    crop_params=io[\"crop_params\"][0],\n",
    "    patch_size=model.patch_size,\n",
    "    canonical_img_size=model.canonical_img_size,\n",
    "    max_scale_ratio=model.max_scale_ratio,\n",
    "    pred_dT=io[\"gt_dT\"][0],\n",
    ")\n",
    "\n",
    "plt.imshow(reconstructed_img_gt.permute(1, 2, 0).cpu())"
   ]
  },
  {
   "cell_type": "code",
   "execution_count": null,
   "metadata": {},
   "outputs": [],
   "source": []
  }
 ],
 "metadata": {
  "kernelspec": {
   "display_name": ".venv",
   "language": "python",
   "name": "python3"
  },
  "language_info": {
   "codemirror_mode": {
    "name": "ipython",
    "version": 3
   },
   "file_extension": ".py",
   "mimetype": "text/x-python",
   "name": "python",
   "nbconvert_exporter": "python",
   "pygments_lexer": "ipython3",
   "version": "3.10.0"
  }
 },
 "nbformat": 4,
 "nbformat_minor": 2
}

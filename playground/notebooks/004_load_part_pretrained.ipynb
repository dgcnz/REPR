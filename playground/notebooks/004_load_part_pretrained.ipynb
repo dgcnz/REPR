{
 "cells": [
  {
   "cell_type": "code",
   "execution_count": 1,
   "metadata": {},
   "outputs": [],
   "source": [
    "import wandb\n",
    "from src.utils.conf_utils import *\n",
    "from src.models.part_vit_module import PARTViTModule\n",
    "from src.callbacks import ReconstructionLogger\n",
    "import torch\n",
    "from matplotlib import pyplot as plt\n",
    "from timm.models import create_model\n",
    "from timm.models.vision_transformer import VisionTransformer"
   ]
  },
  {
   "cell_type": "code",
   "execution_count": 2,
   "metadata": {},
   "outputs": [
    {
     "name": "stderr",
     "output_type": "stream",
     "text": [
      "\u001b[34m\u001b[1mwandb\u001b[0m: Using wandb-core as the SDK backend.  Please refer to https://wandb.me/wandb-core for more information.\n",
      "\u001b[34m\u001b[1mwandb\u001b[0m: Downloading large artifact model-ukjrb3lq:v0, 980.45MB. 1 files... \n",
      "\u001b[34m\u001b[1mwandb\u001b[0m:   1 of 1 files downloaded.  \n",
      "Done. 0:0:1.3\n"
     ]
    }
   ],
   "source": [
    "wandb_kwargs = {\n",
    "    \"id\": \"ukjrb3lq\",\n",
    "    \"entity\": \"dgcnz\",\n",
    "    \"project\": \"PARTv2\",\n",
    "}\n",
    "def get_model_artifact_name(entity: str, project: str, id: str, version: str=\"v0\"):\n",
    "    return f\"{entity}/{project}/model-{id}:{version}\"\n",
    "# Download the model checkpoint from wandb\n",
    "# artifact_full_name = \"dgcnz/PARTv2/model-ukjrb3lq:v0\"\n",
    "artifact, out_dir = download_artifact(get_model_artifact_name(**wandb_kwargs))"
   ]
  },
  {
   "cell_type": "code",
   "execution_count": 3,
   "metadata": {},
   "outputs": [],
   "source": [
    "module_ckpt_path = \"../../artifacts/model-ukjrb3lq:v0/epoch=41-step=52584.ckpt\""
   ]
  },
  {
   "cell_type": "code",
   "execution_count": 4,
   "metadata": {},
   "outputs": [
    {
     "name": "stderr",
     "output_type": "stream",
     "text": [
      "/home/dgcnz/development/thesis/PART/.venv/lib/python3.10/site-packages/lightning/pytorch/utilities/parsing.py:208: Attribute 'net' is an instance of `nn.Module` and is already saved during checkpointing. It is recommended to ignore them using `self.save_hyperparameters(ignore=['net'])`.\n",
      "Unexpected keys (norm.weight, norm.bias) found while loading pretrained weights. This may be expected if model is being adapted.\n"
     ]
    }
   ],
   "source": [
    "model: VisionTransformer = create_model(\n",
    "    \"vit_base_patch16_224\",\n",
    "    pretrained=True,\n",
    "    class_token=False,\n",
    "    global_pool=\"avg\",\n",
    "    pretrained_cfg_overlay=dict(file=PARTViTModule.save_backbone(module_ckpt_path)),\n",
    "    pretrained_strict=False,\n",
    ")"
   ]
  },
  {
   "cell_type": "code",
   "execution_count": 7,
   "metadata": {},
   "outputs": [
    {
     "data": {
      "text/plain": [
       "Identity()"
      ]
     },
     "execution_count": 7,
     "metadata": {},
     "output_type": "execute_result"
    }
   ],
   "source": [
    "model.norm"
   ]
  },
  {
   "cell_type": "code",
   "execution_count": null,
   "metadata": {},
   "outputs": [],
   "source": []
  }
 ],
 "metadata": {
  "kernelspec": {
   "display_name": ".venv",
   "language": "python",
   "name": "python3"
  },
  "language_info": {
   "codemirror_mode": {
    "name": "ipython",
    "version": 3
   },
   "file_extension": ".py",
   "mimetype": "text/x-python",
   "name": "python",
   "nbconvert_exporter": "python",
   "pygments_lexer": "ipython3",
   "version": "3.10.0"
  }
 },
 "nbformat": 4,
 "nbformat_minor": 2
}
